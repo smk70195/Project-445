{
 "cells": [
  {
   "cell_type": "code",
   "execution_count": 64,
   "id": "364cde66",
   "metadata": {},
   "outputs": [
    {
     "data": {
      "text/html": [
       "<div>\n",
       "<style scoped>\n",
       "    .dataframe tbody tr th:only-of-type {\n",
       "        vertical-align: middle;\n",
       "    }\n",
       "\n",
       "    .dataframe tbody tr th {\n",
       "        vertical-align: top;\n",
       "    }\n",
       "\n",
       "    .dataframe thead th {\n",
       "        text-align: right;\n",
       "    }\n",
       "</style>\n",
       "<table border=\"1\" class=\"dataframe\">\n",
       "  <thead>\n",
       "    <tr style=\"text-align: right;\">\n",
       "      <th></th>\n",
       "      <th>Serial Number</th>\n",
       "      <th>List Year</th>\n",
       "      <th>Date Recorded</th>\n",
       "      <th>Town</th>\n",
       "      <th>Address</th>\n",
       "      <th>Assessed Value</th>\n",
       "      <th>Sale Amount</th>\n",
       "      <th>Sales Ratio</th>\n",
       "      <th>Property Type</th>\n",
       "      <th>Residential Type</th>\n",
       "      <th>Non Use Code</th>\n",
       "      <th>Assessor Remarks</th>\n",
       "      <th>OPM remarks</th>\n",
       "      <th>Location</th>\n",
       "    </tr>\n",
       "  </thead>\n",
       "  <tbody>\n",
       "    <tr>\n",
       "      <th>0</th>\n",
       "      <td>2020348</td>\n",
       "      <td>2020</td>\n",
       "      <td>09/13/2021</td>\n",
       "      <td>Ansonia</td>\n",
       "      <td>230 WAKELEE AVE</td>\n",
       "      <td>150500.0</td>\n",
       "      <td>325000.0</td>\n",
       "      <td>0.4630</td>\n",
       "      <td>Commercial</td>\n",
       "      <td>NaN</td>\n",
       "      <td>NaN</td>\n",
       "      <td>NaN</td>\n",
       "      <td>NaN</td>\n",
       "      <td>NaN</td>\n",
       "    </tr>\n",
       "    <tr>\n",
       "      <th>1</th>\n",
       "      <td>20002</td>\n",
       "      <td>2020</td>\n",
       "      <td>10/02/2020</td>\n",
       "      <td>Ashford</td>\n",
       "      <td>390 TURNPIKE RD</td>\n",
       "      <td>253000.0</td>\n",
       "      <td>430000.0</td>\n",
       "      <td>0.5883</td>\n",
       "      <td>Residential</td>\n",
       "      <td>Single Family</td>\n",
       "      <td>NaN</td>\n",
       "      <td>NaN</td>\n",
       "      <td>NaN</td>\n",
       "      <td>NaN</td>\n",
       "    </tr>\n",
       "    <tr>\n",
       "      <th>2</th>\n",
       "      <td>210317</td>\n",
       "      <td>2021</td>\n",
       "      <td>07/05/2022</td>\n",
       "      <td>Avon</td>\n",
       "      <td>53 COTSWOLD WAY</td>\n",
       "      <td>329730.0</td>\n",
       "      <td>805000.0</td>\n",
       "      <td>0.4096</td>\n",
       "      <td>Residential</td>\n",
       "      <td>Single Family</td>\n",
       "      <td>NaN</td>\n",
       "      <td>NaN</td>\n",
       "      <td>NaN</td>\n",
       "      <td>POINT (-72.846365959 41.781677018)</td>\n",
       "    </tr>\n",
       "    <tr>\n",
       "      <th>3</th>\n",
       "      <td>200212</td>\n",
       "      <td>2020</td>\n",
       "      <td>03/09/2021</td>\n",
       "      <td>Avon</td>\n",
       "      <td>5 CHESTNUT DRIVE</td>\n",
       "      <td>130400.0</td>\n",
       "      <td>179900.0</td>\n",
       "      <td>0.7248</td>\n",
       "      <td>Residential</td>\n",
       "      <td>Condo</td>\n",
       "      <td>NaN</td>\n",
       "      <td>NaN</td>\n",
       "      <td>NaN</td>\n",
       "      <td>NaN</td>\n",
       "    </tr>\n",
       "    <tr>\n",
       "      <th>4</th>\n",
       "      <td>200243</td>\n",
       "      <td>2020</td>\n",
       "      <td>04/13/2021</td>\n",
       "      <td>Avon</td>\n",
       "      <td>111 NORTHINGTON DRIVE</td>\n",
       "      <td>619290.0</td>\n",
       "      <td>890000.0</td>\n",
       "      <td>0.6958</td>\n",
       "      <td>Residential</td>\n",
       "      <td>Single Family</td>\n",
       "      <td>NaN</td>\n",
       "      <td>NaN</td>\n",
       "      <td>NaN</td>\n",
       "      <td>NaN</td>\n",
       "    </tr>\n",
       "  </tbody>\n",
       "</table>\n",
       "</div>"
      ],
      "text/plain": [
       "   Serial Number  List Year Date Recorded     Town                Address  \\\n",
       "0        2020348       2020    09/13/2021  Ansonia        230 WAKELEE AVE   \n",
       "1          20002       2020    10/02/2020  Ashford        390 TURNPIKE RD   \n",
       "2         210317       2021    07/05/2022     Avon        53 COTSWOLD WAY   \n",
       "3         200212       2020    03/09/2021     Avon       5 CHESTNUT DRIVE   \n",
       "4         200243       2020    04/13/2021     Avon  111 NORTHINGTON DRIVE   \n",
       "\n",
       "   Assessed Value  Sale Amount  Sales Ratio Property Type Residential Type  \\\n",
       "0        150500.0     325000.0       0.4630    Commercial              NaN   \n",
       "1        253000.0     430000.0       0.5883   Residential    Single Family   \n",
       "2        329730.0     805000.0       0.4096   Residential    Single Family   \n",
       "3        130400.0     179900.0       0.7248   Residential            Condo   \n",
       "4        619290.0     890000.0       0.6958   Residential    Single Family   \n",
       "\n",
       "  Non Use Code Assessor Remarks OPM remarks  \\\n",
       "0          NaN              NaN         NaN   \n",
       "1          NaN              NaN         NaN   \n",
       "2          NaN              NaN         NaN   \n",
       "3          NaN              NaN         NaN   \n",
       "4          NaN              NaN         NaN   \n",
       "\n",
       "                             Location  \n",
       "0                                 NaN  \n",
       "1                                 NaN  \n",
       "2  POINT (-72.846365959 41.781677018)  \n",
       "3                                 NaN  \n",
       "4                                 NaN  "
      ]
     },
     "execution_count": 64,
     "metadata": {},
     "output_type": "execute_result"
    }
   ],
   "source": [
    "import pandas as pd\n",
    "file_path = '/Users/syedkazmi/Desktop/Data.csv'\n",
    "data = pd.read_csv(file_path)\n",
    "data.head()"
   ]
  },
  {
   "cell_type": "code",
   "execution_count": 57,
   "id": "029d2033",
   "metadata": {},
   "outputs": [
    {
     "data": {
      "image/png": "[encoded data removed]",
      "text/plain": [
       "<Figure size 1000x600 with 1 Axes>"
      ]
     },
     "metadata": {},
     "output_type": "display_data"
    }
   ],
   "source": [
    "import matplotlib.pyplot as plt\n",
    "plt.figure(figsize=(10, 6))\n",
    "plt.hist(data['Sale Amount'].dropna(), bins=100, color='skyblue', log=True)\n",
    "plt.title('Histogram of Market Values')\n",
    "plt.xlabel('Market Value')\n",
    "plt.ylabel('Frequency (Log Scale)')\n",
    "plt.grid(True)\n",
    "plt.show()"
   ]
  },
  {
   "cell_type": "markdown",
   "id": "4edf86d3",
   "metadata": {},
   "source": [
    "## Data Preprocessing & Feature Engineering"
   ]
  },
  {
   "cell_type": "code",
   "execution_count": 23,
   "id": "84010712",
   "metadata": {},
   "outputs": [
    {
     "data": {
      "text/plain": [
       "((6389, 159), (6389,))"
      ]
     },
     "execution_count": 23,
     "metadata": {},
     "output_type": "execute_result"
    }
   ],
   "source": [
    "import numpy as np\n",
    "from sklearn.impute import SimpleImputer\n",
    "from sklearn.preprocessing import OneHotEncoder\n",
    "from sklearn.compose import ColumnTransformer\n",
    "from sklearn.pipeline import Pipeline\n",
    "\n",
    "selected_features = ['Town', 'Property Type', 'Serial Number', 'List Year', 'Sale Amount']  \n",
    "data_selected = data[selected_features]\n",
    "\n",
    "numerical_cols = ['Serial Number', 'List Year']\n",
    "categorical_cols = ['Town', 'Property Type']\n",
    "\n",
    "numerical_transformer = SimpleImputer(strategy='median')\n",
    "categorical_transformer = Pipeline(steps=[\n",
    "    ('imputer', SimpleImputer(strategy='most_frequent')),\n",
    "    ('onehot', OneHotEncoder(handle_unknown='ignore'))\n",
    "])\n",
    "\n",
    "preprocessor = ColumnTransformer(\n",
    "    transformers=[\n",
    "        ('num', numerical_transformer, numerical_cols),\n",
    "        ('cat', categorical_transformer, categorical_cols)\n",
    "    ])\n",
    "\n",
    "data_preprocessed = preprocessor.fit_transform(data_selected)\n",
    "\n",
    "y = data_selected['Sale Amount']\n",
    "X = data_selected.drop(['Sale Amount'], axis=1)\n",
    "X_preprocessed = preprocessor.transform(X)\n",
    "X_preprocessed.shape, y.shape"
   ]
  },
  {
   "cell_type": "markdown",
   "id": "b3ab012a",
   "metadata": {},
   "source": [
    "## Model Building"
   ]
  },
  {
   "cell_type": "code",
   "execution_count": 5,
   "id": "c9fe509a",
   "metadata": {},
   "outputs": [
    {
     "data": {
      "text/plain": [
       "{'Linear Regression': {'MSE': 998520113750.8461, 'R2': -0.0002862979168587465},\n",
       " 'Decision Tree': {'MSE': 1147512323795.6128, 'R2': -0.14954204564966633},\n",
       " 'Random Forest': {'MSE': 1026269978167.5317, 'R2': -0.028085246343437342},\n",
       " 'Gradient Boosting': {'MSE': 916415130801.6655, 'R2': 0.0819639124732503}}"
      ]
     },
     "execution_count": 5,
     "metadata": {},
     "output_type": "execute_result"
    }
   ],
   "source": [
    "from sklearn.linear_model import LinearRegression\n",
    "from sklearn.tree import DecisionTreeRegressor\n",
    "from sklearn.ensemble import GradientBoostingRegressor, RandomForestRegressor\n",
    "from sklearn.metrics import mean_squared_error, r2_score\n",
    "from sklearn.model_selection import train_test_split\n",
    "\n",
    "# Assuming you have X_preprocessed and y from the previous code\n",
    "\n",
    "# Split the data into training and testing sets\n",
    "X_train, X_test, y_train, y_test = train_test_split(X_preprocessed, y, test_size=0.2, random_state=42)\n",
    "\n",
    "# Define regression models\n",
    "models = {\n",
    "    \"Linear Regression\": LinearRegression(),\n",
    "    \"Decision Tree\": DecisionTreeRegressor(random_state=42),\n",
    "    \"Random Forest\": RandomForestRegressor(n_estimators=100, random_state=42),\n",
    "    \"Gradient Boosting\": GradientBoostingRegressor(n_estimators=100, random_state=42)\n",
    "}\n",
    "\n",
    "# Dictionary to store results\n",
    "results = {}\n",
    "\n",
    "# Train models and evaluate\n",
    "for name, model in models.items():\n",
    "    model.fit(X_train, y_train)\n",
    "    y_pred = model.predict(X_test)\n",
    "    mse = mean_squared_error(y_test, y_pred)\n",
    "    r2 = r2_score(y_test, y_pred)\n",
    "    results[name] = {'MSE': mse, 'R2': r2}\n",
    "\n",
    "results"
   ]
  },
  {
   "cell_type": "markdown",
   "id": "377631db",
   "metadata": {},
   "source": [
    "Construction of Test Dataset and Evaluation of Model"
   ]
  },
  {
   "cell_type": "code",
   "execution_count": 67,
   "id": "500df103",
   "metadata": {},
   "outputs": [
    {
     "name": "stdout",
     "output_type": "stream",
     "text": [
      "RMSE: 580768.3288161326\n",
      "MAE: 337291851755.88354\n"
     ]
    }
   ],
   "source": [
    "import pandas as pd\n",
    "from sklearn.model_selection import train_test_split\n",
    "from sklearn.ensemble import GradientBoostingRegressor\n",
    "from sklearn.metrics import mean_squared_error\n",
    "\n",
    "# Load the dataset\n",
    "file_path =  '/Users/syedkazmi/Desktop/Data.csv'\n",
    "data = pd.read_csv(file_path)\n",
    "\n",
    "# Sort the data by date and select the most recent data for the test set\n",
    "# Replace 'Date Recorded' with the actual date field in your dataset\n",
    "data_sorted = data.sort_values(by='Date Recorded', ascending=False)\n",
    "test_data_size = int(0.2 * len(data_sorted))  # e.g., 20% of the data as test set\n",
    "test_data = data_sorted.head(test_data_size)\n",
    "\n",
    "# Preprocess the test data as need to adjust preprocessing steps based on your dataset)\n",
    "\n",
    "\n",
    "X_test = test_data.drop('Sale Amount', axis=1)  # Replace 'Sale Amount' with your target column\n",
    "y_test = test_data['Sale Amount']\n",
    "X_test_preprocessed = preprocessor.transform(X_test)\n",
    "\n",
    "# Load your trained model\n",
    "# Assuming your model is named `trained_model`\n",
    "\n",
    "\n",
    "gradient_boosting_model = models['Gradient Boosting']\n",
    "\n",
    "# Predict on the test set and evaluate\n",
    "y_pred = gradient_boosting_model.predict(X_test_preprocessed)\n",
    "rmse = mean_squared_error(y_test, y_pred, squared=False)  # Root Mean Squared Error\n",
    "mae = mean_squared_error(y_test, y_pred)  # Mean Absolute Error\n",
    "\n",
    "print(f\"RMSE: {rmse}\")\n",
    "print(f\"MAE: {mae}\")\n",
    "\n",
    "\n"
   ]
  }
 ],
 "metadata": {
  "kernelspec": {
   "display_name": "Python 3 (ipykernel)",
   "language": "python",
   "name": "python3"
  },
  "language_info": {
   "codemirror_mode": {
    "name": "ipython",
    "version": 3
   },
   "file_extension": ".py",
   "mimetype": "text/x-python",
   "name": "python",
   "nbconvert_exporter": "python",
   "pygments_lexer": "ipython3",
   "version": "3.10.5"
  }
 },
 "nbformat": 4,
 "nbformat_minor": 5
}
